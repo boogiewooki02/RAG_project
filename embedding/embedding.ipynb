{
 "cells": [
  {
   "cell_type": "code",
   "execution_count": null,
   "id": "67b4661d",
   "metadata": {},
   "outputs": [
    {
     "name": "stdout",
     "output_type": "stream",
     "text": [
      "국민카드 임베딩 추가 완료\n",
      "농협카드 임베딩 추가 완료\n",
      "롯데카드 임베딩 추가 완료\n",
      "삼성카드 임베딩 추가 완료\n",
      "신한카드 임베딩 추가 완료\n",
      "우리카드 임베딩 추가 완료\n",
      "하나카드 임베딩 추가 완료\n",
      "현대카드 임베딩 추가 완료\n",
      "BC카드 임베딩 추가 완료\n",
      "IBK기업카드 임베딩 추가 완료\n",
      "모든 카드 문서가 Chroma DB에 저장되었습니다.\n"
     ]
    },
    {
     "name": "stderr",
     "output_type": "stream",
     "text": [
      "C:\\Users\\Playdata\\AppData\\Local\\Temp\\ipykernel_7380\\2595611233.py:49: LangChainDeprecationWarning: Since Chroma 0.4.x the manual persistence method is no longer supported as docs are automatically persisted.\n",
      "  vector_store.persist()\n"
     ]
    }
   ],
   "source": [
    "import json\n",
    "from langchain.vectorstores import Chroma\n",
    "from langchain.docstore.document import Document\n",
    "from langchain_openai import OpenAIEmbeddings\n",
    "from langchain_huggingface import HuggingFaceEmbeddings\n",
    "\n",
    "from dotenv import load_dotenv\n",
    "load_dotenv()\n",
    "\n",
    "# 임베딩 모델 설정\n",
    "e_model_id = \"text-embedding-3-small\"\n",
    "embedding_model = OpenAIEmbeddings(model=e_model_id)\n",
    "# e_model_id = \"intfloat/multilingual-e5-large\"\n",
    "# embedding_model = HuggingFaceEmbeddings(model=e_model_id)\n",
    "\n",
    "# Chroma DB 로드\n",
    "collection_name = \"card_info\"\n",
    "persis_directory = \"./chroma_db\"\n",
    "\n",
    "vector_store = Chroma(\n",
    "    collection_name=collection_name,\n",
    "    embedding_function=embedding_model,\n",
    "    persist_directory=persis_directory,\n",
    ")\n",
    "\n",
    "# 카드사 리스트\n",
    "brands = [\"국민\", \"농협\", \"롯데\", \"삼성\", \"신한\", \"우리\", \"하나\", \"현대\", \"BC\", \"IBK기업\"]\n",
    "\n",
    "# 각 카드사 임베딩\n",
    "for brand in brands:\n",
    "    with open(f\"../data/raw/{brand}.json\", \"r\", encoding=\"utf-8\") as f:\n",
    "        card_data = json.load(f)\n",
    "\n",
    "    documents = []\n",
    "    for card in card_data:\n",
    "        doc_text = f\"{card['name']}는 {card['brand']}에서 발급한 {card['c_brand']} 카드입니다. \"\n",
    "        doc_text += f\"연회비는 국내 {card['fee_domestic']}원, 해외겸용 {card['fee_global']}원입니다.\\n\"\n",
    "        for b in card['benefits']:\n",
    "            doc_text += f\"- [{b['category']}] {b['short_description']} / {b['detail_description']}\\n\"\n",
    "        doc_text += f\"카드 신청은 {card['url']}에서 가능합니다.\\n\"\n",
    "\n",
    "        documents.append(\n",
    "            Document(page_content=doc_text, metadata={\"name\": card['name'], \"brand\": card['brand'], \"c_brand\": card['c_brand'], \"fee_domestic\": card['fee_domestic'], \"fee_global\": card['fee_global']})\n",
    "        )\n",
    "    vector_store.add_documents(documents)\n",
    "    print(f\"{brand}카드 임베딩 추가 완료\")\n",
    "\n",
    "# DB 저장\n",
    "vector_store.persist()\n",
    "print(\"모든 카드 문서가 Chroma DB에 저장되었습니다.\")"
   ]
  },
  {
   "cell_type": "code",
   "execution_count": 1,
   "id": "9678146d",
   "metadata": {},
   "outputs": [
    {
     "name": "stderr",
     "output_type": "stream",
     "text": [
      "C:\\Users\\Playdata\\AppData\\Local\\Temp\\ipykernel_25212\\2128829386.py:10: LangChainDeprecationWarning: The class `Chroma` was deprecated in LangChain 0.2.9 and will be removed in 1.0. An updated version of the class exists in the :class:`~langchain-chroma package and should be used instead. To use it run `pip install -U :class:`~langchain-chroma` and import as `from :class:`~langchain_chroma import Chroma``.\n",
      "  vector_store = Chroma(\n"
     ]
    }
   ],
   "source": [
    "from langchain.vectorstores import Chroma\n",
    "from langchain_openai import OpenAIEmbeddings\n",
    "from langchain_huggingface import HuggingFaceEmbeddings\n",
    "\n",
    "embedding_model = OpenAIEmbeddings(model=\"text-embedding-3-small\")\n",
    "# e_model_id = \"intfloat/multilingual-e5-large\"\n",
    "# embedding_model = HuggingFaceEmbeddings(model=e_model_id)\n",
    "\n",
    "# Chroma DB 로드\n",
    "vector_store = Chroma(\n",
    "    collection_name=\"card_info\",\n",
    "    embedding_function=embedding_model,\n",
    "    persist_directory=\"./chroma_db\",\n",
    ")\n",
    "\n",
    "# 상위 5개를 검색하는 리트리버 생성\n",
    "retriever = vector_store.as_retriever(\n",
    "    search_type=\"similarity\", # 코사인 유사도 검색\n",
    "    search_kwargs={\"k\": 5}\n",
    ")"
   ]
  },
  {
   "cell_type": "code",
   "execution_count": 2,
   "id": "dbfce846",
   "metadata": {},
   "outputs": [],
   "source": [
    "from langchain.prompts import PromptTemplate\n",
    "\n",
    "template = \"\"\"\\\n",
    "당신은 카드 추천 전문가입니다. \n",
    "주어진 Context를 바탕으로 질문에 답변해주세요.\n",
    "Context에 질문에 대한 명확한 정보가 없을 경우 \"관련 정보가 없습니다.\"라고 답변해주세요.\n",
    "절대 Context에 없는 내용을 추측하거나 일반 상식을 이용해 답을 만들어서 대답하지 않습니다.\n",
    "\n",
    "Context:{context}\n",
    "\n",
    "질문: {question}\n",
    "\n",
    "추천 카드 목록을 아래 형식으로 출력해주세요.\n",
    "- 카드명: [카드명]\n",
    "- 카드사: [카드사]\n",
    "- 연회비: [연회비]\n",
    "- 혜택: [혜택 요약]\n",
    "- 카드 자세히 보기: [URL]\n",
    "\"\"\"\n",
    "\n",
    "prompt_template = PromptTemplate(\n",
    "    template=template,\n",
    "    input_variables=[\"context\", \"question\"]\n",
    ")"
   ]
  },
  {
   "cell_type": "code",
   "execution_count": 3,
   "id": "780cd700",
   "metadata": {},
   "outputs": [],
   "source": [
    "from langchain_openai import ChatOpenAI\n",
    "from langchain_core.runnables import RunnablePassthrough\n",
    "from langchain_core.output_parsers import StrOutputParser\n",
    "\n",
    "from huggingface_hub import login\n",
    "from langchain_huggingface.llms import HuggingFacePipeline\n",
    "from transformers import pipeline\n",
    "\n",
    "from dotenv import load_dotenv\n",
    "import os\n",
    "load_dotenv()\n",
    "# hf_token = os.getenv(\"HUGGINGFACE_API_KEY\")\n",
    "# login(hf_token)\n",
    "\n",
    "llm = ChatOpenAI(model=\"gpt-4.1-mini\", temperature=0)\n",
    "# model_id = \"google/gemma-3-1b-it\"\n",
    "# generator = pipeline(\n",
    "#     task=\"text-generation\",\n",
    "#     model=model_id,\n",
    "#     tokenizer=model_id\n",
    "# )\n",
    "# llm = HuggingFacePipeline(pipeline=generator)\n",
    "\n",
    "rag_chain = (\n",
    "    {\"context\": retriever, \"question\": RunnablePassthrough()}\n",
    "    | prompt_template\n",
    "    | llm\n",
    "    | StrOutputParser()\n",
    ")"
   ]
  },
  {
   "cell_type": "code",
   "execution_count": 4,
   "id": "40240bcb",
   "metadata": {},
   "outputs": [
    {
     "name": "stdout",
     "output_type": "stream",
     "text": [
      "- 카드명: 삼성 iD GLOBAL 카드  \n",
      "- 카드사: 삼성카드  \n",
      "- 연회비: 국내 20,000원, 해외겸용 20,000원  \n",
      "- 혜택:  \n",
      "  - 간편결제: 삼성페이, 네이버페이, 카카오페이 온라인 간편결제 1% 할인 (일상 필수 영역)  \n",
      "  - 디지털 구독: 인앱 결제/디지털콘텐츠/멤버십 50% 결제일 할인 (넷플릭스, 디즈니+, 유튜브 프리미엄, 쿠팡 로켓와우 등)  \n",
      "  - 해외 수수료 할인 및 해외 2% 할인, 삼성페이 해외 오프라인 5% 할인  \n",
      "  - 공항 라운지 무료 이용 (월 1회, 연 2회)  \n",
      "- 카드 자세히 보기: https://www.card-gorilla.com/card/detail/2676\n"
     ]
    }
   ],
   "source": [
    "question = \"간편결제 혜택과 디지털 구독 서비스가 모두 있는 카드 중 베스트 1개 추천해줘\"\n",
    "response = rag_chain.invoke(question)\n",
    "\n",
    "print(response)"
   ]
  },
  {
   "cell_type": "code",
   "execution_count": 6,
   "id": "60999ea2",
   "metadata": {},
   "outputs": [
    {
     "name": "stdout",
     "output_type": "stream",
     "text": [
      "관련 정보가 없습니다.\n"
     ]
    }
   ],
   "source": [
    "question = \"반려동물 보험 혜택이 있는 카드는 뭐야?\"\n",
    "response = rag_chain.invoke(question)\n",
    "\n",
    "print(response)"
   ]
  },
  {
   "cell_type": "code",
   "execution_count": 7,
   "id": "b32c7e47",
   "metadata": {},
   "outputs": [
    {
     "name": "stdout",
     "output_type": "stream",
     "text": [
      "- 카드명: K-패스 신한카드  \n",
      "- 카드사: 신한카드  \n",
      "- 연회비: 국내 7,000원 / 해외겸용 10,000원  \n",
      "- 혜택: 해외겸용 Mastercard 카드로 해외 결제 시 간편결제 5% 결제일 할인(단, 해외 간편결제 및 교통카드 이용금액 제외), 대중교통 10% 할인, 생활서비스(배달앱, 편의점, 커피전문점, 올리브영, 병원/약국, OTT, 이동통신요금 자동이체) 5% 결제일 할인  \n",
      "- 카드 자세히 보기: https://www.card-gorilla.com/card/detail/2690\n",
      "\n",
      "- 카드명: zgm.휴가중카드  \n",
      "- 카드사: NH농협카드  \n",
      "- 연회비: 국내 25,000원 / 해외겸용 25,000원  \n",
      "- 혜택: 해외 이용액 2~5% NH포인트 적립(전월실적에 따라 차등적립), 국내 이용액 0.5% 적립, 항공권·면세점 0.5% 추가적립, 호텔스닷컴 20% 즉시할인, 전 세계 공항 라운지 월 1회 무료 이용(연 2회), 여행자보험 무료 가입  \n",
      "- 카드 자세히 보기: https://www.card-gorilla.com/card/detail/2464\n",
      "\n",
      "- 카드명: BC 바로 On&Off 카드  \n",
      "- 카드사: BC 바로카드  \n",
      "- 연회비: 국내 5,000원 / 해외겸용 5,000원  \n",
      "- 혜택: 해외 온/오프라인 가맹점 10% 결제일 할인, 국내 온라인 및 간편결제 10% 할인, 버스/지하철/택시 10% 할인, 음식점/커피 10% 할인, 2~3개월 무이자할부 서비스 제공  \n",
      "- 카드 자세히 보기: https://www.card-gorilla.com/card/detail/2591\n"
     ]
    }
   ],
   "source": [
    "question = input(\"질문을 입력하세요: \")\n",
    "response = rag_chain.invoke(question)\n",
    "\n",
    "print(response)"
   ]
  },
  {
   "cell_type": "code",
   "execution_count": 8,
   "id": "cc9561e4",
   "metadata": {},
   "outputs": [
    {
     "data": {
      "application/vnd.jupyter.widget-view+json": {
       "model_id": "5744ef07544d4333b0f725b6333003a8",
       "version_major": 2,
       "version_minor": 0
      },
      "text/plain": [
       "Evaluating:   0%|          | 0/10 [00:00<?, ?it/s]"
      ]
     },
     "metadata": {},
     "output_type": "display_data"
    },
    {
     "name": "stdout",
     "output_type": "stream",
     "text": [
      "                  user_input  \\\n",
      "0    대중교통이랑 커피 할인 되는 카드 추천해줘   \n",
      "1      반려동물 보험 혜택 있는 카드가 있어?   \n",
      "2         해외여행 시 유용한 카드 추천해줘   \n",
      "3  연회비가 10만원 이하인 카드 중에서 추천해줘   \n",
      "4  디지털 구독 서비스 혜택이 있는 카드가 뭐야?   \n",
      "\n",
      "                                  retrieved_contexts  \\\n",
      "0  [K-패스 (신용)는 IBK기업은행에서 발급한 Mastercard 카드입니다. 연회...   \n",
      "1  [K-패스 (신용)는 IBK기업은행에서 발급한 Mastercard 카드입니다. 연회...   \n",
      "2  [BC 바로 On&Off 카드는 BC 바로카드에서 발급한 VISA 카드입니다. 연회...   \n",
      "3  [카드의정석 TEN는 우리카드에서 발급한 Mastercard 카드입니다. 연회비는 ...   \n",
      "4  [현대카드 M는 현대카드에서 발급한 VISA 카드입니다. 연회비는 국내 30,000...   \n",
      "\n",
      "                                            response  faithfulness  \\\n",
      "0  - 카드명: K-패스 (신용)  \\n- 카드사: IBK기업은행  \\n- 연회비: 국...      0.250000   \n",
      "1                                       관련 정보가 없습니다.      1.000000   \n",
      "2  - 카드명: 카드의정석 EVERY MILE SKYPASS  \\n- 카드사: 우리카드...      0.857143   \n",
      "3  - 카드명: LOCA LIKIT Eat  \\n- 카드사: 롯데카드  \\n- 연회비:...      0.952381   \n",
      "4  - 카드명: LOCA 365 카드  \\n- 카드사: 롯데카드  \\n- 연회비: 국내...      0.937500   \n",
      "\n",
      "   answer_relevancy  \n",
      "0          0.798754  \n",
      "1          0.000000  \n",
      "2          0.798802  \n",
      "3          0.797970  \n",
      "4          0.846725  \n"
     ]
    }
   ],
   "source": [
    "# RAGAS 평가\n",
    "\n",
    "from datasets import Dataset\n",
    "from ragas import evaluate\n",
    "from ragas.metrics import faithfulness, answer_relevancy, context_precision, context_recall\n",
    "\n",
    "# 질문 리스트\n",
    "questions = [\n",
    "    \"대중교통이랑 커피 할인 되는 카드 추천해줘\",\n",
    "    \"반려동물 보험 혜택 있는 카드가 있어?\",\n",
    "    \"해외여행 시 유용한 카드 추천해줘\",\n",
    "    \"연회비가 10만원 이하인 카드 중에서 추천해줘\",\n",
    "    \"디지털 구독 서비스 혜택이 있는 카드가 뭐야?\",\n",
    "]\n",
    "\n",
    "# 실제 답변과 문맥 수집\n",
    "answers = []\n",
    "contexts = []\n",
    "for q in questions:\n",
    "    result = rag_chain.invoke(q)\n",
    "    answers.append(result)\n",
    "\n",
    "    docs = retriever.get_relevant_documents(q)\n",
    "    contexts.append([d.page_content for d in docs])\n",
    "\n",
    "# 평가용 데이터셋 구성\n",
    "dataset = Dataset.from_dict({\n",
    "    \"question\": questions,\n",
    "    \"answer\": answers,\n",
    "    \"contexts\": contexts,\n",
    "})\n",
    "\n",
    "metrics = [faithfulness, answer_relevancy]\n",
    "results = evaluate(dataset=dataset, metrics=metrics)\n",
    "\n",
    "print(results.to_pandas())"
   ]
  },
  {
   "cell_type": "code",
   "execution_count": 9,
   "id": "3d107d3c",
   "metadata": {},
   "outputs": [
    {
     "data": {
      "text/html": [
       "<div>\n",
       "<style scoped>\n",
       "    .dataframe tbody tr th:only-of-type {\n",
       "        vertical-align: middle;\n",
       "    }\n",
       "\n",
       "    .dataframe tbody tr th {\n",
       "        vertical-align: top;\n",
       "    }\n",
       "\n",
       "    .dataframe thead th {\n",
       "        text-align: right;\n",
       "    }\n",
       "</style>\n",
       "<table border=\"1\" class=\"dataframe\">\n",
       "  <thead>\n",
       "    <tr style=\"text-align: right;\">\n",
       "      <th></th>\n",
       "      <th>user_input</th>\n",
       "      <th>retrieved_contexts</th>\n",
       "      <th>response</th>\n",
       "      <th>faithfulness</th>\n",
       "      <th>answer_relevancy</th>\n",
       "    </tr>\n",
       "  </thead>\n",
       "  <tbody>\n",
       "    <tr>\n",
       "      <th>0</th>\n",
       "      <td>대중교통이랑 커피 할인 되는 카드 추천해줘</td>\n",
       "      <td>[K-패스 (신용)는 IBK기업은행에서 발급한 Mastercard 카드입니다. 연회...</td>\n",
       "      <td>- 카드명: K-패스 (신용)  \\n- 카드사: IBK기업은행  \\n- 연회비: 국...</td>\n",
       "      <td>0.250000</td>\n",
       "      <td>0.798754</td>\n",
       "    </tr>\n",
       "    <tr>\n",
       "      <th>1</th>\n",
       "      <td>반려동물 보험 혜택 있는 카드가 있어?</td>\n",
       "      <td>[K-패스 (신용)는 IBK기업은행에서 발급한 Mastercard 카드입니다. 연회...</td>\n",
       "      <td>관련 정보가 없습니다.</td>\n",
       "      <td>1.000000</td>\n",
       "      <td>0.000000</td>\n",
       "    </tr>\n",
       "    <tr>\n",
       "      <th>2</th>\n",
       "      <td>해외여행 시 유용한 카드 추천해줘</td>\n",
       "      <td>[BC 바로 On&amp;Off 카드는 BC 바로카드에서 발급한 VISA 카드입니다. 연회...</td>\n",
       "      <td>- 카드명: 카드의정석 EVERY MILE SKYPASS  \\n- 카드사: 우리카드...</td>\n",
       "      <td>0.857143</td>\n",
       "      <td>0.798802</td>\n",
       "    </tr>\n",
       "    <tr>\n",
       "      <th>3</th>\n",
       "      <td>연회비가 10만원 이하인 카드 중에서 추천해줘</td>\n",
       "      <td>[카드의정석 TEN는 우리카드에서 발급한 Mastercard 카드입니다. 연회비는 ...</td>\n",
       "      <td>- 카드명: LOCA LIKIT Eat  \\n- 카드사: 롯데카드  \\n- 연회비:...</td>\n",
       "      <td>0.952381</td>\n",
       "      <td>0.797970</td>\n",
       "    </tr>\n",
       "    <tr>\n",
       "      <th>4</th>\n",
       "      <td>디지털 구독 서비스 혜택이 있는 카드가 뭐야?</td>\n",
       "      <td>[현대카드 M는 현대카드에서 발급한 VISA 카드입니다. 연회비는 국내 30,000...</td>\n",
       "      <td>- 카드명: LOCA 365 카드  \\n- 카드사: 롯데카드  \\n- 연회비: 국내...</td>\n",
       "      <td>0.937500</td>\n",
       "      <td>0.846725</td>\n",
       "    </tr>\n",
       "  </tbody>\n",
       "</table>\n",
       "</div>"
      ],
      "text/plain": [
       "                  user_input  \\\n",
       "0    대중교통이랑 커피 할인 되는 카드 추천해줘   \n",
       "1      반려동물 보험 혜택 있는 카드가 있어?   \n",
       "2         해외여행 시 유용한 카드 추천해줘   \n",
       "3  연회비가 10만원 이하인 카드 중에서 추천해줘   \n",
       "4  디지털 구독 서비스 혜택이 있는 카드가 뭐야?   \n",
       "\n",
       "                                  retrieved_contexts  \\\n",
       "0  [K-패스 (신용)는 IBK기업은행에서 발급한 Mastercard 카드입니다. 연회...   \n",
       "1  [K-패스 (신용)는 IBK기업은행에서 발급한 Mastercard 카드입니다. 연회...   \n",
       "2  [BC 바로 On&Off 카드는 BC 바로카드에서 발급한 VISA 카드입니다. 연회...   \n",
       "3  [카드의정석 TEN는 우리카드에서 발급한 Mastercard 카드입니다. 연회비는 ...   \n",
       "4  [현대카드 M는 현대카드에서 발급한 VISA 카드입니다. 연회비는 국내 30,000...   \n",
       "\n",
       "                                            response  faithfulness  \\\n",
       "0  - 카드명: K-패스 (신용)  \\n- 카드사: IBK기업은행  \\n- 연회비: 국...      0.250000   \n",
       "1                                       관련 정보가 없습니다.      1.000000   \n",
       "2  - 카드명: 카드의정석 EVERY MILE SKYPASS  \\n- 카드사: 우리카드...      0.857143   \n",
       "3  - 카드명: LOCA LIKIT Eat  \\n- 카드사: 롯데카드  \\n- 연회비:...      0.952381   \n",
       "4  - 카드명: LOCA 365 카드  \\n- 카드사: 롯데카드  \\n- 연회비: 국내...      0.937500   \n",
       "\n",
       "   answer_relevancy  \n",
       "0          0.798754  \n",
       "1          0.000000  \n",
       "2          0.798802  \n",
       "3          0.797970  \n",
       "4          0.846725  "
      ]
     },
     "execution_count": 9,
     "metadata": {},
     "output_type": "execute_result"
    }
   ],
   "source": [
    "results.to_pandas()"
   ]
  },
  {
   "cell_type": "code",
   "execution_count": null,
   "id": "70babc3c",
   "metadata": {},
   "outputs": [],
   "source": []
  }
 ],
 "metadata": {
  "kernelspec": {
   "display_name": "base",
   "language": "python",
   "name": "python3"
  },
  "language_info": {
   "codemirror_mode": {
    "name": "ipython",
    "version": 3
   },
   "file_extension": ".py",
   "mimetype": "text/x-python",
   "name": "python",
   "nbconvert_exporter": "python",
   "pygments_lexer": "ipython3",
   "version": "3.12.7"
  }
 },
 "nbformat": 4,
 "nbformat_minor": 5
}
